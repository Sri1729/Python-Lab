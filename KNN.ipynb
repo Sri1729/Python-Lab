{
 "cells": [
  {
   "cell_type": "code",
   "execution_count": 9,
   "id": "21199614",
   "metadata": {},
   "outputs": [],
   "source": [
    "from sklearn.datasets import load_iris\n",
    "from sklearn.model_selection import train_test_split\n",
    "from sklearn.neighbors import KNeighborsClassifier"
   ]
  },
  {
   "cell_type": "code",
   "execution_count": 10,
   "id": "0d6cb79e",
   "metadata": {},
   "outputs": [],
   "source": [
    "# Load the iris dataset\n",
    "iris = load_iris()"
   ]
  },
  {
   "cell_type": "code",
   "execution_count": 11,
   "id": "3306d860",
   "metadata": {},
   "outputs": [],
   "source": [
    "# Split the data into training and testing sets\n",
    "X_train, X_test, y_train, y_test = train_test_split(iris.data, iris.target, test_size=0.3)"
   ]
  },
  {
   "cell_type": "code",
   "execution_count": 12,
   "id": "950c42e8",
   "metadata": {},
   "outputs": [
    {
     "data": {
      "text/html": [
       "<style>#sk-container-id-1 {color: black;background-color: white;}#sk-container-id-1 pre{padding: 0;}#sk-container-id-1 div.sk-toggleable {background-color: white;}#sk-container-id-1 label.sk-toggleable__label {cursor: pointer;display: block;width: 100%;margin-bottom: 0;padding: 0.3em;box-sizing: border-box;text-align: center;}#sk-container-id-1 label.sk-toggleable__label-arrow:before {content: \"▸\";float: left;margin-right: 0.25em;color: #696969;}#sk-container-id-1 label.sk-toggleable__label-arrow:hover:before {color: black;}#sk-container-id-1 div.sk-estimator:hover label.sk-toggleable__label-arrow:before {color: black;}#sk-container-id-1 div.sk-toggleable__content {max-height: 0;max-width: 0;overflow: hidden;text-align: left;background-color: #f0f8ff;}#sk-container-id-1 div.sk-toggleable__content pre {margin: 0.2em;color: black;border-radius: 0.25em;background-color: #f0f8ff;}#sk-container-id-1 input.sk-toggleable__control:checked~div.sk-toggleable__content {max-height: 200px;max-width: 100%;overflow: auto;}#sk-container-id-1 input.sk-toggleable__control:checked~label.sk-toggleable__label-arrow:before {content: \"▾\";}#sk-container-id-1 div.sk-estimator input.sk-toggleable__control:checked~label.sk-toggleable__label {background-color: #d4ebff;}#sk-container-id-1 div.sk-label input.sk-toggleable__control:checked~label.sk-toggleable__label {background-color: #d4ebff;}#sk-container-id-1 input.sk-hidden--visually {border: 0;clip: rect(1px 1px 1px 1px);clip: rect(1px, 1px, 1px, 1px);height: 1px;margin: -1px;overflow: hidden;padding: 0;position: absolute;width: 1px;}#sk-container-id-1 div.sk-estimator {font-family: monospace;background-color: #f0f8ff;border: 1px dotted black;border-radius: 0.25em;box-sizing: border-box;margin-bottom: 0.5em;}#sk-container-id-1 div.sk-estimator:hover {background-color: #d4ebff;}#sk-container-id-1 div.sk-parallel-item::after {content: \"\";width: 100%;border-bottom: 1px solid gray;flex-grow: 1;}#sk-container-id-1 div.sk-label:hover label.sk-toggleable__label {background-color: #d4ebff;}#sk-container-id-1 div.sk-serial::before {content: \"\";position: absolute;border-left: 1px solid gray;box-sizing: border-box;top: 0;bottom: 0;left: 50%;z-index: 0;}#sk-container-id-1 div.sk-serial {display: flex;flex-direction: column;align-items: center;background-color: white;padding-right: 0.2em;padding-left: 0.2em;position: relative;}#sk-container-id-1 div.sk-item {position: relative;z-index: 1;}#sk-container-id-1 div.sk-parallel {display: flex;align-items: stretch;justify-content: center;background-color: white;position: relative;}#sk-container-id-1 div.sk-item::before, #sk-container-id-1 div.sk-parallel-item::before {content: \"\";position: absolute;border-left: 1px solid gray;box-sizing: border-box;top: 0;bottom: 0;left: 50%;z-index: -1;}#sk-container-id-1 div.sk-parallel-item {display: flex;flex-direction: column;z-index: 1;position: relative;background-color: white;}#sk-container-id-1 div.sk-parallel-item:first-child::after {align-self: flex-end;width: 50%;}#sk-container-id-1 div.sk-parallel-item:last-child::after {align-self: flex-start;width: 50%;}#sk-container-id-1 div.sk-parallel-item:only-child::after {width: 0;}#sk-container-id-1 div.sk-dashed-wrapped {border: 1px dashed gray;margin: 0 0.4em 0.5em 0.4em;box-sizing: border-box;padding-bottom: 0.4em;background-color: white;}#sk-container-id-1 div.sk-label label {font-family: monospace;font-weight: bold;display: inline-block;line-height: 1.2em;}#sk-container-id-1 div.sk-label-container {text-align: center;}#sk-container-id-1 div.sk-container {/* jupyter's `normalize.less` sets `[hidden] { display: none; }` but bootstrap.min.css set `[hidden] { display: none !important; }` so we also need the `!important` here to be able to override the default hidden behavior on the sphinx rendered scikit-learn.org. See: https://github.com/scikit-learn/scikit-learn/issues/21755 */display: inline-block !important;position: relative;}#sk-container-id-1 div.sk-text-repr-fallback {display: none;}</style><div id=\"sk-container-id-1\" class=\"sk-top-container\"><div class=\"sk-text-repr-fallback\"><pre>KNeighborsClassifier(n_neighbors=3)</pre><b>In a Jupyter environment, please rerun this cell to show the HTML representation or trust the notebook. <br />On GitHub, the HTML representation is unable to render, please try loading this page with nbviewer.org.</b></div><div class=\"sk-container\" hidden><div class=\"sk-item\"><div class=\"sk-estimator sk-toggleable\"><input class=\"sk-toggleable__control sk-hidden--visually\" id=\"sk-estimator-id-1\" type=\"checkbox\" checked><label for=\"sk-estimator-id-1\" class=\"sk-toggleable__label sk-toggleable__label-arrow\">KNeighborsClassifier</label><div class=\"sk-toggleable__content\"><pre>KNeighborsClassifier(n_neighbors=3)</pre></div></div></div></div></div>"
      ],
      "text/plain": [
       "KNeighborsClassifier(n_neighbors=3)"
      ]
     },
     "execution_count": 12,
     "metadata": {},
     "output_type": "execute_result"
    }
   ],
   "source": [
    "# Train the KNN classifier with k=3\n",
    "knn = KNeighborsClassifier(n_neighbors=3)\n",
    "knn.fit(X_train, y_train)"
   ]
  },
  {
   "cell_type": "code",
   "execution_count": 13,
   "id": "b75d679c",
   "metadata": {},
   "outputs": [],
   "source": [
    "# Evaluate the performance of the classifier on the testing set\n",
    "predictions = knn.predict(X_test)"
   ]
  },
  {
   "cell_type": "code",
   "execution_count": 14,
   "id": "a545e6b6",
   "metadata": {},
   "outputs": [
    {
     "data": {
      "text/plain": [
       "array([1, 0, 1, 1, 0, 1, 1, 1, 0, 0, 0, 1, 1, 0, 1, 2, 1, 2, 2, 2, 0, 0,\n",
       "       2, 0, 0, 0, 1, 2, 2, 2, 0, 0, 1, 1, 0, 2, 0, 2, 1, 0, 2, 2, 2, 0,\n",
       "       1])"
      ]
     },
     "execution_count": 14,
     "metadata": {},
     "output_type": "execute_result"
    }
   ],
   "source": [
    "predictions"
   ]
  },
  {
   "cell_type": "code",
   "execution_count": 15,
   "id": "c4627371",
   "metadata": {},
   "outputs": [
    {
     "name": "stdout",
     "output_type": "stream",
     "text": [
      "Correct prediction: Actual class=versicolor, Predicted class=versicolor\n",
      "Correct prediction: Actual class=setosa, Predicted class=setosa\n",
      "Correct prediction: Actual class=versicolor, Predicted class=versicolor\n",
      "Correct prediction: Actual class=versicolor, Predicted class=versicolor\n",
      "Correct prediction: Actual class=setosa, Predicted class=setosa\n",
      "Correct prediction: Actual class=versicolor, Predicted class=versicolor\n",
      "Correct prediction: Actual class=versicolor, Predicted class=versicolor\n",
      "Correct prediction: Actual class=versicolor, Predicted class=versicolor\n",
      "Correct prediction: Actual class=setosa, Predicted class=setosa\n",
      "Correct prediction: Actual class=setosa, Predicted class=setosa\n",
      "Correct prediction: Actual class=setosa, Predicted class=setosa\n",
      "Correct prediction: Actual class=versicolor, Predicted class=versicolor\n",
      "Correct prediction: Actual class=versicolor, Predicted class=versicolor\n",
      "Correct prediction: Actual class=setosa, Predicted class=setosa\n",
      "Wrong prediction: Actual class=virginica, Predicted class=versicolor\n",
      "Correct prediction: Actual class=virginica, Predicted class=virginica\n",
      "Correct prediction: Actual class=versicolor, Predicted class=versicolor\n",
      "Correct prediction: Actual class=virginica, Predicted class=virginica\n",
      "Correct prediction: Actual class=virginica, Predicted class=virginica\n",
      "Correct prediction: Actual class=virginica, Predicted class=virginica\n",
      "Correct prediction: Actual class=setosa, Predicted class=setosa\n",
      "Correct prediction: Actual class=setosa, Predicted class=setosa\n",
      "Correct prediction: Actual class=virginica, Predicted class=virginica\n",
      "Correct prediction: Actual class=setosa, Predicted class=setosa\n",
      "Correct prediction: Actual class=setosa, Predicted class=setosa\n",
      "Correct prediction: Actual class=setosa, Predicted class=setosa\n",
      "Correct prediction: Actual class=versicolor, Predicted class=versicolor\n",
      "Correct prediction: Actual class=virginica, Predicted class=virginica\n",
      "Correct prediction: Actual class=virginica, Predicted class=virginica\n",
      "Correct prediction: Actual class=virginica, Predicted class=virginica\n",
      "Correct prediction: Actual class=setosa, Predicted class=setosa\n",
      "Correct prediction: Actual class=setosa, Predicted class=setosa\n",
      "Correct prediction: Actual class=versicolor, Predicted class=versicolor\n",
      "Correct prediction: Actual class=versicolor, Predicted class=versicolor\n",
      "Correct prediction: Actual class=setosa, Predicted class=setosa\n",
      "Correct prediction: Actual class=virginica, Predicted class=virginica\n",
      "Correct prediction: Actual class=setosa, Predicted class=setosa\n",
      "Wrong prediction: Actual class=versicolor, Predicted class=virginica\n",
      "Correct prediction: Actual class=versicolor, Predicted class=versicolor\n",
      "Correct prediction: Actual class=setosa, Predicted class=setosa\n",
      "Correct prediction: Actual class=virginica, Predicted class=virginica\n",
      "Correct prediction: Actual class=virginica, Predicted class=virginica\n",
      "Correct prediction: Actual class=virginica, Predicted class=virginica\n",
      "Correct prediction: Actual class=setosa, Predicted class=setosa\n",
      "Correct prediction: Actual class=versicolor, Predicted class=versicolor\n",
      "\n",
      "Total correct predictions: 43\n",
      "Total wrong predictions: 2\n"
     ]
    }
   ],
   "source": [
    "correct = 0\n",
    "wrong = 0\n",
    "for i in range(len(predictions)):\n",
    "    if predictions[i] == y_test[i]:\n",
    "        print(f\"Correct prediction: Actual class={iris.target_names[y_test[i]]}, Predicted class={iris.target_names[predictions[i]]}\")\n",
    "        correct += 1\n",
    "    else:\n",
    "        print(f\"Wrong prediction: Actual class={iris.target_names[y_test[i]]}, Predicted class={iris.target_names[predictions[i]]}\")\n",
    "        wrong += 1\n",
    "\n",
    "print(f\"\\nTotal correct predictions: {correct}\")\n",
    "print(f\"Total wrong predictions: {wrong}\")"
   ]
  },
  {
   "cell_type": "code",
   "execution_count": null,
   "id": "93f6951a",
   "metadata": {},
   "outputs": [],
   "source": []
  },
  {
   "cell_type": "code",
   "execution_count": null,
   "id": "d7eb635a",
   "metadata": {},
   "outputs": [],
   "source": []
  },
  {
   "cell_type": "code",
   "execution_count": null,
   "id": "dd3d3ecd",
   "metadata": {},
   "outputs": [],
   "source": []
  },
  {
   "cell_type": "code",
   "execution_count": null,
   "id": "620f88bb",
   "metadata": {},
   "outputs": [],
   "source": []
  }
 ],
 "metadata": {
  "kernelspec": {
   "display_name": "Python 3 (ipykernel)",
   "language": "python",
   "name": "python3"
  },
  "language_info": {
   "codemirror_mode": {
    "name": "ipython",
    "version": 3
   },
   "file_extension": ".py",
   "mimetype": "text/x-python",
   "name": "python",
   "nbconvert_exporter": "python",
   "pygments_lexer": "ipython3",
   "version": "3.11.2"
  },
  "varInspector": {
   "cols": {
    "lenName": 16,
    "lenType": 16,
    "lenVar": 40
   },
   "kernels_config": {
    "python": {
     "delete_cmd_postfix": "",
     "delete_cmd_prefix": "del ",
     "library": "var_list.py",
     "varRefreshCmd": "print(var_dic_list())"
    },
    "r": {
     "delete_cmd_postfix": ") ",
     "delete_cmd_prefix": "rm(",
     "library": "var_list.r",
     "varRefreshCmd": "cat(var_dic_list()) "
    }
   },
   "types_to_exclude": [
    "module",
    "function",
    "builtin_function_or_method",
    "instance",
    "_Feature"
   ],
   "window_display": false
  }
 },
 "nbformat": 4,
 "nbformat_minor": 5
}
